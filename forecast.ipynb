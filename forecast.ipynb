{
 "cells": [
  {
   "cell_type": "code",
   "execution_count": 1,
   "metadata": {},
   "outputs": [],
   "source": [
    "import pandas as pd\n",
    "import matplotlib.pyplot as plt\n",
    "from wordcloud import WordCloud\n",
    "\n",
    "\n",
    "import matplotlib.pyplot as plt\n",
    "# import seaborn as sns\n",
    "import plotly.express as px\n",
    "import plotly.graph_objects as go\n",
    "from wordcloud import WordCloud\n",
    "from plotly.subplots import make_subplots\n",
    "\n",
    "# predefine color pallette alias\n",
    "cnf = 'grey' # confirmed\n",
    "dth = 'red' # death\n",
    "rec = 'lightgreen' # recovered\n",
    "act = 'orange' # active\n"
   ]
  },
  {
   "cell_type": "code",
   "execution_count": 2,
   "metadata": {},
   "outputs": [
    {
     "name": "stdout",
     "output_type": "stream",
     "text": [
      "acaps-covid-19-government-measures-dataset.csv\r\n",
      "countryLockdowndates.csv\r\n",
      "time_series_covid19_confirmed_US.csv\r\n",
      "time_series_covid19_confirmed_global.csv\r\n"
     ]
    }
   ],
   "source": [
    "!ls ../input/covid-forecasting-datasets/"
   ]
  },
  {
   "cell_type": "code",
   "execution_count": 3,
   "metadata": {},
   "outputs": [],
   "source": [
    "train_df = pd.read_csv('../input/covid19-global-forecasting-week-3/train.csv')\n",
    "test_df = pd.read_csv('../input/covid19-global-forecasting-week-3/test.csv')"
   ]
  },
  {
   "cell_type": "code",
   "execution_count": 4,
   "metadata": {},
   "outputs": [],
   "source": [
    "lockdown = pd.read_csv(\"../input/covid-forecasting-datasets/countryLockdowndates.csv\")\n",
    "lockdown.columns = ['Country_Region', 'Province_State', 'Date_lockdown', 'Type', 'Reference']\n",
    "lowckdown_df = train_df.merge(lockdown, on=['Country_Region', 'Province_State'], how='left')"
   ]
  },
  {
   "cell_type": "code",
   "execution_count": 5,
   "metadata": {},
   "outputs": [],
   "source": [
    "measures = pd.read_csv(\"../input/covid-forecasting-datasets/acaps-covid-19-government-measures-dataset.csv\")\n",
    "measures.columns = ['id', 'Country_Region', 'iso', 'admin_level_name', 'pcode', 'region',\n",
    "       'category', 'measure', 'targeted_pop_group', 'comments',\n",
    "       'measures_date_implemented', 'source', 'source_type', 'link', 'entry_date',\n",
    "       'alternative_source']\n",
    "\n",
    "measures = measures[[\n",
    "    'id', 'Country_Region', 'category', 'measure', 'targeted_pop_group', 'comments', 'measures_date_implemented'\n",
    "    ]]\n",
    "\n",
    "measures[\"Country_Region\"].replace({\n",
    "    \"United States of America\": \"US\",\n",
    "    \"Russia\": \"Russian Federation\",\n",
    "    \"Viet Nam\": \"Vietnam\",\n",
    "    \"Korea Republic of\": \"Korea, South\",\n",
    "    \"Czech Republic\":\"Korea, South\"\n",
    "    }, inplace=True)"
   ]
  },
  {
   "cell_type": "code",
   "execution_count": 6,
   "metadata": {},
   "outputs": [],
   "source": [
    "measures['category'] = measures.category.str.lower()\n",
    "measures['measure'] =  measures.measure.str.lower()"
   ]
  },
  {
   "cell_type": "code",
   "execution_count": 7,
   "metadata": {},
   "outputs": [],
   "source": [
    "measures['measures_date_implemented'] = pd.to_datetime(measures[\"measures_date_implemented\"], errors='coerce')\n",
    "\n",
    "measures_country = measures.groupby(['Country_Region', 'measure']).agg({'measures_date_implemented': 'min'}).reset_index()\n",
    "\n",
    "\n",
    "pivot_measures = pd.pivot_table(measures_country, values='measures_date_implemented', index=['Country_Region'],\n",
    "                    columns=['measure'], aggfunc='min')\n",
    "pivot_measures = pivot_measures.reset_index()\n",
    "pivot_measures\n",
    "\n",
    "lowckdown_df.Date = pd.to_datetime(lowckdown_df.Date)\n",
    "lockdown_measure_df = lowckdown_df.merge(\n",
    "    pivot_measures, left_on=['Country_Region'], right_on=['Country_Region'], how='left')\n",
    "lockdown_measure_df\n",
    "\n",
    "\n",
    "for column in pivot_measures.columns.tolist():\n",
    "    if column in ['Country_Region', 'measures_date_implemented']:\n",
    "        continue\n",
    "    lockdown_measure_df.loc[lockdown_measure_df['Date'] >= pd.to_datetime(lockdown_measure_df[column]), column+'_flag'] = 1\n",
    "    lockdown_measure_df.drop(columns=[column], inplace=True)\n",
    "\n",
    "lockdown_measure_df.head()\n",
    "\n",
    "lockdown_measure_df.fillna(0.0, inplace=True)"
   ]
  },
  {
   "cell_type": "code",
   "execution_count": 8,
   "metadata": {},
   "outputs": [],
   "source": [
    "location_global = pd.read_csv(\"../input/covid-forecasting-datasets/time_series_covid19_confirmed_global.csv\")[['Province/State', 'Country/Region', 'Lat', 'Long']\n",
    "                                                                  ].rename(columns={\n",
    "                    'Province/State': 'Province_State',\n",
    "                    'Country/Region': 'Country_Region'\n",
    "})\n",
    "\n",
    "location_us = pd.read_csv(\"../input/covid-forecasting-datasets/time_series_covid19_confirmed_US.csv\")[['Province_State', 'Country_Region', 'Lat', 'Long_']\n",
    "                                                                  ].rename(columns={\n",
    "                    'Long_': 'Long'\n",
    "})\n",
    "\n",
    "location = location_global.append(location_us)\n",
    "\n",
    "\n",
    "location = location[(location.Lat != 0) & (location.Long != 0)].drop_duplicates(\n",
    "    ['Province_State', 'Country_Region'])\n",
    "\n",
    "location\n",
    "\n",
    "\n",
    "lockdown_geo = lockdown_measure_df.merge(\n",
    "    location.fillna(0.0), on=['Country_Region', 'Province_State'], how='left')"
   ]
  },
  {
   "cell_type": "markdown",
   "metadata": {},
   "source": [
    "## Label Encode"
   ]
  },
  {
   "cell_type": "code",
   "execution_count": 9,
   "metadata": {},
   "outputs": [
    {
     "name": "stdout",
     "output_type": "stream",
     "text": [
      "Label encoding categorical columns: ['Province_State', 'Country_Region', 'Date', 'Date_lockdown', 'Type', 'Reference', 'Location']\n"
     ]
    }
   ],
   "source": [
    "lockdown_geo['Location'] = lockdown_geo['Province_State'].astype(str) + '_' + lockdown_geo['Country_Region'].astype(str)\n",
    "\n",
    "from sklearn import preprocessing\n",
    "\n",
    "types = lockdown_geo.dtypes\n",
    "cat_columns = [t[0] for t in types.iteritems() if ((t[1] not in ['int64', 'float64']))]\n",
    "\n",
    "print('Label encoding categorical columns:', cat_columns)\n",
    "encoders = {}\n",
    "Locations = []\n",
    "for col in cat_columns:\n",
    "    lbl = preprocessing.LabelEncoder()\n",
    "    if col == 'Location':\n",
    "        Locations += lockdown_geo[col].unique().tolist()\n",
    "    if col == 'Date':\n",
    "        continue\n",
    "    lockdown_geo[col] = lbl.fit_transform(lockdown_geo[col].astype(str))\n",
    "    encoders[col] = lbl\n",
    "    \n"
   ]
  },
  {
   "cell_type": "code",
   "execution_count": 10,
   "metadata": {
    "scrolled": true
   },
   "outputs": [
    {
     "name": "stderr",
     "output_type": "stream",
     "text": [
      "/opt/conda/lib/python3.6/site-packages/sklearn/preprocessing/_label.py:268: DataConversionWarning:\n",
      "\n",
      "A column-vector y was passed when a 1d array was expected. Please change the shape of y to (n_samples, ), for example using ravel().\n",
      "\n"
     ]
    }
   ],
   "source": [
    "all_dates = list(set(train_df.Date.unique().tolist() + test_df.Date.unique().tolist()))\n",
    "lbl = preprocessing.LabelEncoder()\n",
    "lbl.fit(all_dates)\n",
    "lockdown_geo['Date'] = lbl.transform(lockdown_geo[['Date']].astype(str))"
   ]
  },
  {
   "cell_type": "markdown",
   "metadata": {},
   "source": [
    "## Train / Test"
   ]
  },
  {
   "cell_type": "code",
   "execution_count": 11,
   "metadata": {
    "scrolled": true
   },
   "outputs": [],
   "source": [
    "train_window_size = len(lockdown_geo.Date.unique())\n",
    "lookback_window_size = 14\n",
    "forecast_window_size = 33"
   ]
  },
  {
   "cell_type": "code",
   "execution_count": 12,
   "metadata": {},
   "outputs": [
    {
     "name": "stderr",
     "output_type": "stream",
     "text": [
      "100%|██████████| 30/30 [00:37<00:00,  1.25s/it]\n"
     ]
    }
   ],
   "source": [
    "features_set = []\n",
    "labels_cases = []\n",
    "labels_fatalities = []\n",
    "\n",
    "from tqdm import *\n",
    "\n",
    "for i in tqdm(range(lookback_window_size, train_window_size - forecast_window_size)):\n",
    "\n",
    "    for location in lockdown_geo.Location.unique().tolist():\n",
    "        df = lockdown_geo[lockdown_geo.Location == location].reset_index()\n",
    "        features_set.append(df.iloc[i-lookback_window_size:i, 3:].values)\n",
    "        labels_cases.append(df.iloc[i:i+forecast_window_size, :]['ConfirmedCases'])\n",
    "        labels_fatalities.append(df.iloc[i:i+forecast_window_size, :]['Fatalities'])\n",
    "        \n",
    "# test_features_set = []\n",
    "# test_labels_cases = []\n",
    "# test_labels_fatalities = []\n",
    " \n",
    "# for i in tqdm(range(66, 67)):\n",
    "#     for location in lockdown_geo.Location.unique().tolist():#encoders['Location'].transform(['New York_US']).tolist():#l\n",
    "# #         print(location)\n",
    "#         df = lockdown_geo[lockdown_geo.Location == location].reset_index()\n",
    "#         test_features_set.append(df.iloc[i-7:i, 3:].values)\n",
    "#         test_labels_cases.append(df.iloc[i:i+7, :]['ConfirmedCases'])\n",
    "#         test_labels_fatalities(df.iloc[i:i+7, :]['Fatalities'])\n",
    "        \n",
    "# future_features_set = []\n",
    "# i=73\n",
    "# for location in lockdown_geo.Location.unique().tolist():#encoders['Location'].transform(['New York_US']).tolist():#l\n",
    "#     df = lockdown_geo[lockdown_geo.Location == location].reset_index()\n",
    "#     future_features_set.append(df.iloc[i-7:i, 3:].values)\n",
    "\n",
    "# future_features_set = pd.np.array(future_features_set)"
   ]
  },
  {
   "cell_type": "code",
   "execution_count": 13,
   "metadata": {},
   "outputs": [],
   "source": [
    "future_features_set_1 = []\n",
    "i = train_window_size\n",
    "for location in lockdown_geo.Location.unique().tolist():\n",
    "    df = lockdown_geo[lockdown_geo.Location == location].reset_index()\n",
    "    future_features_set_1.append(df.iloc[i-lookback_window_size:i, 3:].values)\n",
    "#         labels_cases.append(df.iloc[i:i+forecast_window_size, :]['ConfirmedCases'])\n",
    "#         labels_fatalities.append(df.iloc[i:i+forecast_window_size, :]['Fatalities'])\n",
    "\n",
    "future_features_set_1 = pd.np.array(future_features_set_1)"
   ]
  },
  {
   "cell_type": "code",
   "execution_count": 14,
   "metadata": {},
   "outputs": [],
   "source": [
    "future_features_set_2 = []\n",
    "i = lbl.transform([test_df.Date.min()])[0]\n",
    "for location in lockdown_geo.Location.unique().tolist():\n",
    "    df = lockdown_geo[lockdown_geo.Location == location].reset_index()\n",
    "    future_features_set_2.append(df.iloc[i-lookback_window_size:i, 3:].values)\n",
    "#         labels_cases.append(df.iloc[i:i+forecast_window_size, :]['ConfirmedCases'])\n",
    "#         labels_fatalities.append(df.iloc[i:i+forecast_window_size, :]['Fatalities'])\n",
    "\n",
    "future_features_set_2 = pd.np.array(future_features_set_2)"
   ]
  },
  {
   "cell_type": "code",
   "execution_count": 15,
   "metadata": {
    "scrolled": true
   },
   "outputs": [
    {
     "data": {
      "text/html": [
       "<div>\n",
       "<style scoped>\n",
       "    .dataframe tbody tr th:only-of-type {\n",
       "        vertical-align: middle;\n",
       "    }\n",
       "\n",
       "    .dataframe tbody tr th {\n",
       "        vertical-align: top;\n",
       "    }\n",
       "\n",
       "    .dataframe thead th {\n",
       "        text-align: right;\n",
       "    }\n",
       "</style>\n",
       "<table border=\"1\" class=\"dataframe\">\n",
       "  <thead>\n",
       "    <tr style=\"text-align: right;\">\n",
       "      <th></th>\n",
       "      <th>ForecastId</th>\n",
       "      <th>Province_State</th>\n",
       "      <th>Country_Region</th>\n",
       "      <th>Date</th>\n",
       "      <th>Location</th>\n",
       "    </tr>\n",
       "  </thead>\n",
       "  <tbody>\n",
       "    <tr>\n",
       "      <th>0</th>\n",
       "      <td>1</td>\n",
       "      <td>0</td>\n",
       "      <td>Afghanistan</td>\n",
       "      <td>2020-03-26</td>\n",
       "      <td>0</td>\n",
       "    </tr>\n",
       "    <tr>\n",
       "      <th>1</th>\n",
       "      <td>2</td>\n",
       "      <td>0</td>\n",
       "      <td>Afghanistan</td>\n",
       "      <td>2020-03-27</td>\n",
       "      <td>0</td>\n",
       "    </tr>\n",
       "    <tr>\n",
       "      <th>2</th>\n",
       "      <td>3</td>\n",
       "      <td>0</td>\n",
       "      <td>Afghanistan</td>\n",
       "      <td>2020-03-28</td>\n",
       "      <td>0</td>\n",
       "    </tr>\n",
       "    <tr>\n",
       "      <th>3</th>\n",
       "      <td>4</td>\n",
       "      <td>0</td>\n",
       "      <td>Afghanistan</td>\n",
       "      <td>2020-03-29</td>\n",
       "      <td>0</td>\n",
       "    </tr>\n",
       "    <tr>\n",
       "      <th>4</th>\n",
       "      <td>5</td>\n",
       "      <td>0</td>\n",
       "      <td>Afghanistan</td>\n",
       "      <td>2020-03-30</td>\n",
       "      <td>0</td>\n",
       "    </tr>\n",
       "  </tbody>\n",
       "</table>\n",
       "</div>"
      ],
      "text/plain": [
       "   ForecastId Province_State Country_Region        Date  Location\n",
       "0           1              0    Afghanistan  2020-03-26         0\n",
       "1           2              0    Afghanistan  2020-03-27         0\n",
       "2           3              0    Afghanistan  2020-03-28         0\n",
       "3           4              0    Afghanistan  2020-03-29         0\n",
       "4           5              0    Afghanistan  2020-03-30         0"
      ]
     },
     "execution_count": 15,
     "metadata": {},
     "output_type": "execute_result"
    }
   ],
   "source": [
    "test_df.fillna(0.0, inplace=True)\n",
    "test_df['Location'] = test_df['Province_State'].astype(str) + '_' + test_df['Country_Region'].astype(str)\n",
    "test_df['Location'] = encoders['Location'].transform(test_df['Location'])\n",
    "test_df.head()"
   ]
  },
  {
   "cell_type": "code",
   "execution_count": 16,
   "metadata": {},
   "outputs": [
    {
     "data": {
      "text/plain": [
       "0"
      ]
     },
     "execution_count": 16,
     "metadata": {},
     "output_type": "execute_result"
    }
   ],
   "source": [
    "import gc\n",
    "gc.collect()"
   ]
  },
  {
   "cell_type": "code",
   "execution_count": 17,
   "metadata": {},
   "outputs": [],
   "source": [
    "features_set, labels_cases, labels_fatalities = pd.np.array(features_set), pd.np.array(labels_cases), pd.np.array(labels_fatalities)\n",
    "# test_features_set, test_labels = pd.np.array(test_features_set), pd.np.array(test_labels)\n",
    "size = features_set.shape[0]\n",
    "gc.collect()\n",
    "\n",
    "split = int(size*(9/10))\n",
    "values = pd.np.nan_to_num(features_set)\n",
    "n_train_time = 365*24\n",
    "\n",
    "train = values[:split, :, :]\n",
    "test = values[split:, :, :]\n",
    "train_y_cases = labels_cases[:split]\n",
    "test_y_cases = labels_cases[split:]\n",
    "\n",
    "train_y_fatalities = labels_fatalities[:split]\n",
    "test_y_fatalities = labels_fatalities[split:]"
   ]
  },
  {
   "cell_type": "markdown",
   "metadata": {},
   "source": [
    "## Model"
   ]
  },
  {
   "cell_type": "code",
   "execution_count": 18,
   "metadata": {},
   "outputs": [
    {
     "name": "stderr",
     "output_type": "stream",
     "text": [
      "Using TensorFlow backend.\n"
     ]
    },
    {
     "name": "stdout",
     "output_type": "stream",
     "text": [
      "Train on 8262 samples, validate on 918 samples\n",
      "Epoch 1/10\n",
      "8262/8262 [==============================] - 4s 520us/step - loss: 21082815.9294 - val_loss: 65570230.1100\n",
      "Epoch 2/10\n",
      "8262/8262 [==============================] - 3s 411us/step - loss: 20244225.1871 - val_loss: 62177000.5196\n",
      "Epoch 3/10\n",
      "8262/8262 [==============================] - 3s 414us/step - loss: 18898511.6179 - val_loss: 56349162.9477\n",
      "Epoch 4/10\n",
      "8262/8262 [==============================] - 3s 409us/step - loss: 16556132.2914 - val_loss: 49346306.1340\n",
      "Epoch 5/10\n",
      "8262/8262 [==============================] - 3s 414us/step - loss: 13657405.8380 - val_loss: 40536887.4488\n",
      "Epoch 6/10\n",
      "8262/8262 [==============================] - 3s 417us/step - loss: 10516329.7582 - val_loss: 35832113.6046\n",
      "Epoch 7/10\n",
      "8262/8262 [==============================] - 3s 411us/step - loss: 9224699.0107 - val_loss: 33730747.2353\n",
      "Epoch 8/10\n",
      "8262/8262 [==============================] - 3s 411us/step - loss: 7813196.1006 - val_loss: 31563762.2331\n",
      "Epoch 9/10\n",
      "8262/8262 [==============================] - 4s 429us/step - loss: 6465116.9698 - val_loss: 29397428.5632\n",
      "Epoch 10/10\n",
      "8262/8262 [==============================] - 4s 434us/step - loss: 6041615.8070 - val_loss: 29954329.1503\n"
     ]
    }
   ],
   "source": [
    "from keras.models import Sequential\n",
    "from keras.layers import Dense\n",
    "from keras.layers import LSTM\n",
    "from keras.layers import Dropout\n",
    "\n",
    "model_cases = Sequential()\n",
    "model_cases.add(LSTM(units=100,input_shape=(features_set.shape[1], features_set.shape[2])))\n",
    "model_cases.add(Dropout(0.2))\n",
    "model_cases.add(Dense(units = 64, activation='relu'))\n",
    "model_cases.add(Dropout(0.2))\n",
    "model_cases.add(Dense(units = 32, activation='relu'))\n",
    "model_cases.add(Dropout(0.2))\n",
    "model_cases.add(Dense(units = forecast_window_size))\n",
    "model_cases.compile(optimizer = 'adam', loss = 'mean_squared_error')\n",
    "history_cases = model_cases.fit(train, train_y_cases, epochs = 10, batch_size = 32, validation_data=(test, test_y_cases))"
   ]
  },
  {
   "cell_type": "code",
   "execution_count": 19,
   "metadata": {
    "scrolled": true
   },
   "outputs": [
    {
     "name": "stdout",
     "output_type": "stream",
     "text": [
      "Train on 8262 samples, validate on 918 samples\n",
      "Epoch 1/10\n",
      "8262/8262 [==============================] - 4s 501us/step - loss: 68766.7021 - val_loss: 367919.0610\n",
      "Epoch 2/10\n",
      "8262/8262 [==============================] - 3s 413us/step - loss: 64017.6942 - val_loss: 336944.0877\n",
      "Epoch 3/10\n",
      "8262/8262 [==============================] - 3s 410us/step - loss: 52511.7571 - val_loss: 269626.1271\n",
      "Epoch 4/10\n",
      "8262/8262 [==============================] - 4s 462us/step - loss: 43224.4778 - val_loss: 239756.9424\n",
      "Epoch 5/10\n",
      "8262/8262 [==============================] - 4s 463us/step - loss: 36379.6516 - val_loss: 215684.9698\n",
      "Epoch 6/10\n",
      "8262/8262 [==============================] - 4s 449us/step - loss: 31548.7176 - val_loss: 223826.3152\n",
      "Epoch 7/10\n",
      "8262/8262 [==============================] - 3s 416us/step - loss: 29801.3784 - val_loss: 199241.3102\n",
      "Epoch 8/10\n",
      "8262/8262 [==============================] - 4s 426us/step - loss: 30568.1931 - val_loss: 213974.9028\n",
      "Epoch 9/10\n",
      "8262/8262 [==============================] - 3s 413us/step - loss: 26578.0718 - val_loss: 194508.9347\n",
      "Epoch 10/10\n",
      "8262/8262 [==============================] - 3s 413us/step - loss: 26190.6705 - val_loss: 204331.9914\n"
     ]
    }
   ],
   "source": [
    "model_fatalities = Sequential()\n",
    "model_fatalities.add(LSTM(units=100,input_shape=(features_set.shape[1], features_set.shape[2])))\n",
    "model_fatalities.add(Dropout(0.2))\n",
    "model_fatalities.add(Dense(units = 64, activation='relu'))\n",
    "model_fatalities.add(Dropout(0.2))\n",
    "model_fatalities.add(Dense(units = 32, activation='relu'))\n",
    "model_fatalities.add(Dropout(0.2))\n",
    "model_fatalities.add(Dense(units = forecast_window_size))\n",
    "model_fatalities.compile(optimizer = 'adam', loss = 'mean_squared_error')\n",
    "history_fatalities = model_fatalities.fit(train, train_y_fatalities, epochs = 10, batch_size = 32, validation_data=(test, test_y_fatalities))"
   ]
  },
  {
   "cell_type": "code",
   "execution_count": 20,
   "metadata": {},
   "outputs": [],
   "source": [
    "forecast_cases_future_1 = model_cases.predict(future_features_set_1)\n",
    "forecast_fatalities_future_1 = model_fatalities.predict(future_features_set_1)\n",
    "\n",
    "forecast_cases_future_2 = model_cases.predict(future_features_set_2)\n",
    "forecast_fatalities_future_2 = model_fatalities.predict(future_features_set_2)"
   ]
  },
  {
   "cell_type": "code",
   "execution_count": 21,
   "metadata": {
    "scrolled": true
   },
   "outputs": [],
   "source": [
    "date_1 = future_features_set_1[:,13,1]\n",
    "date_2 = future_features_set_2[:,13,1]\n",
    "locations_1 =  future_features_set_1[:,13,-1]\n",
    "locations_2 =  future_features_set_2[:,13,-1]"
   ]
  },
  {
   "cell_type": "code",
   "execution_count": 22,
   "metadata": {
    "scrolled": true
   },
   "outputs": [],
   "source": [
    "location_col = []\n",
    "Date_col = []\n",
    "predictions_col = []\n",
    "fatalities_col = []\n",
    "\n",
    "for i,pred in enumerate(forecast_cases_future_1.tolist()):\n",
    "    location_col += [locations_1[i]]*33\n",
    "    Date_col += [date_1[i]+x+1 for x in range(33)]\n",
    "    predictions_col += pred\n",
    "    \n",
    "for i,pred in enumerate(forecast_fatalities_future_1.tolist()):\n",
    "    fatalities_col += pred\n",
    "  \n",
    "    \n",
    "df_1 = pd.DataFrame({'Location': location_col, 'Date': Date_col, 'predictions_1': predictions_col, 'fatalities_1': fatalities_col})\n",
    "\n"
   ]
  },
  {
   "cell_type": "code",
   "execution_count": 23,
   "metadata": {},
   "outputs": [],
   "source": [
    "location_col = []\n",
    "Date_col = []\n",
    "predictions_col = []\n",
    "fatalities_col = []\n",
    "\n",
    "for i,pred in enumerate(forecast_cases_future_2.tolist()):\n",
    "    location_col += [locations_2[i]]*33\n",
    "    Date_col += [date_2[i]+x+1 for x in range(33)]\n",
    "    predictions_col += pred\n",
    "    \n",
    "for i,pred in enumerate(forecast_fatalities_future_2.tolist()):\n",
    "#     location_col += [locations_1[i]]*33\n",
    "#     Date_col += [date_1[i]]*33\n",
    "    fatalities_col += pred\n",
    "      \n",
    "df_2 = pd.DataFrame({'Location': location_col, 'Date': Date_col, 'predictions_2': predictions_col, 'fatalities_2': fatalities_col})"
   ]
  },
  {
   "cell_type": "code",
   "execution_count": 24,
   "metadata": {},
   "outputs": [],
   "source": [
    "df_1['Date'] = df_1['Date']"
   ]
  },
  {
   "cell_type": "code",
   "execution_count": 25,
   "metadata": {},
   "outputs": [
    {
     "data": {
      "text/plain": [
       "{'Province_State': LabelEncoder(),\n",
       " 'Country_Region': LabelEncoder(),\n",
       " 'Date_lockdown': LabelEncoder(),\n",
       " 'Type': LabelEncoder(),\n",
       " 'Reference': LabelEncoder(),\n",
       " 'Location': LabelEncoder()}"
      ]
     },
     "execution_count": 25,
     "metadata": {},
     "output_type": "execute_result"
    }
   ],
   "source": [
    "encoders"
   ]
  },
  {
   "cell_type": "code",
   "execution_count": 26,
   "metadata": {},
   "outputs": [],
   "source": [
    "test_df['Date'] =lbl.transform(test_df['Date'])"
   ]
  },
  {
   "cell_type": "code",
   "execution_count": 27,
   "metadata": {},
   "outputs": [
    {
     "data": {
      "text/html": [
       "<div>\n",
       "<style scoped>\n",
       "    .dataframe tbody tr th:only-of-type {\n",
       "        vertical-align: middle;\n",
       "    }\n",
       "\n",
       "    .dataframe tbody tr th {\n",
       "        vertical-align: top;\n",
       "    }\n",
       "\n",
       "    .dataframe thead th {\n",
       "        text-align: right;\n",
       "    }\n",
       "</style>\n",
       "<table border=\"1\" class=\"dataframe\">\n",
       "  <thead>\n",
       "    <tr style=\"text-align: right;\">\n",
       "      <th></th>\n",
       "      <th>ForecastId</th>\n",
       "      <th>Province_State</th>\n",
       "      <th>Country_Region</th>\n",
       "      <th>Date</th>\n",
       "      <th>Location</th>\n",
       "    </tr>\n",
       "  </thead>\n",
       "  <tbody>\n",
       "    <tr>\n",
       "      <th>0</th>\n",
       "      <td>1</td>\n",
       "      <td>0</td>\n",
       "      <td>Afghanistan</td>\n",
       "      <td>64</td>\n",
       "      <td>0</td>\n",
       "    </tr>\n",
       "    <tr>\n",
       "      <th>1</th>\n",
       "      <td>2</td>\n",
       "      <td>0</td>\n",
       "      <td>Afghanistan</td>\n",
       "      <td>65</td>\n",
       "      <td>0</td>\n",
       "    </tr>\n",
       "    <tr>\n",
       "      <th>2</th>\n",
       "      <td>3</td>\n",
       "      <td>0</td>\n",
       "      <td>Afghanistan</td>\n",
       "      <td>66</td>\n",
       "      <td>0</td>\n",
       "    </tr>\n",
       "    <tr>\n",
       "      <th>3</th>\n",
       "      <td>4</td>\n",
       "      <td>0</td>\n",
       "      <td>Afghanistan</td>\n",
       "      <td>67</td>\n",
       "      <td>0</td>\n",
       "    </tr>\n",
       "    <tr>\n",
       "      <th>4</th>\n",
       "      <td>5</td>\n",
       "      <td>0</td>\n",
       "      <td>Afghanistan</td>\n",
       "      <td>68</td>\n",
       "      <td>0</td>\n",
       "    </tr>\n",
       "    <tr>\n",
       "      <th>...</th>\n",
       "      <td>...</td>\n",
       "      <td>...</td>\n",
       "      <td>...</td>\n",
       "      <td>...</td>\n",
       "      <td>...</td>\n",
       "    </tr>\n",
       "    <tr>\n",
       "      <th>13153</th>\n",
       "      <td>13154</td>\n",
       "      <td>0</td>\n",
       "      <td>Zimbabwe</td>\n",
       "      <td>102</td>\n",
       "      <td>175</td>\n",
       "    </tr>\n",
       "    <tr>\n",
       "      <th>13154</th>\n",
       "      <td>13155</td>\n",
       "      <td>0</td>\n",
       "      <td>Zimbabwe</td>\n",
       "      <td>103</td>\n",
       "      <td>175</td>\n",
       "    </tr>\n",
       "    <tr>\n",
       "      <th>13155</th>\n",
       "      <td>13156</td>\n",
       "      <td>0</td>\n",
       "      <td>Zimbabwe</td>\n",
       "      <td>104</td>\n",
       "      <td>175</td>\n",
       "    </tr>\n",
       "    <tr>\n",
       "      <th>13156</th>\n",
       "      <td>13157</td>\n",
       "      <td>0</td>\n",
       "      <td>Zimbabwe</td>\n",
       "      <td>105</td>\n",
       "      <td>175</td>\n",
       "    </tr>\n",
       "    <tr>\n",
       "      <th>13157</th>\n",
       "      <td>13158</td>\n",
       "      <td>0</td>\n",
       "      <td>Zimbabwe</td>\n",
       "      <td>106</td>\n",
       "      <td>175</td>\n",
       "    </tr>\n",
       "  </tbody>\n",
       "</table>\n",
       "<p>13158 rows × 5 columns</p>\n",
       "</div>"
      ],
      "text/plain": [
       "       ForecastId Province_State Country_Region  Date  Location\n",
       "0               1              0    Afghanistan    64         0\n",
       "1               2              0    Afghanistan    65         0\n",
       "2               3              0    Afghanistan    66         0\n",
       "3               4              0    Afghanistan    67         0\n",
       "4               5              0    Afghanistan    68         0\n",
       "...           ...            ...            ...   ...       ...\n",
       "13153       13154              0       Zimbabwe   102       175\n",
       "13154       13155              0       Zimbabwe   103       175\n",
       "13155       13156              0       Zimbabwe   104       175\n",
       "13156       13157              0       Zimbabwe   105       175\n",
       "13157       13158              0       Zimbabwe   106       175\n",
       "\n",
       "[13158 rows x 5 columns]"
      ]
     },
     "execution_count": 27,
     "metadata": {},
     "output_type": "execute_result"
    }
   ],
   "source": [
    "test_df"
   ]
  },
  {
   "cell_type": "code",
   "execution_count": 28,
   "metadata": {},
   "outputs": [],
   "source": [
    "df_2.Location = df_2.Location.astype('int')\n",
    "df_2.Date = df_2.Date.astype('int')\n",
    "\n",
    "df_1.Location = df_1.Location.astype('int')\n",
    "df_1.Date = df_1.Date.astype('int')"
   ]
  },
  {
   "cell_type": "code",
   "execution_count": 29,
   "metadata": {},
   "outputs": [],
   "source": [
    "df_1.loc[df_1.predictions_1 < 0, 'predictions_1'] = 0\n",
    "df_1.loc[df_1.fatalities_1 < 0, 'fatalities_1'] = 0\n",
    "df_2.loc[df_2.predictions_2 < 0, 'predictions_2'] = 0\n",
    "df_2.loc[df_2.fatalities_2 < 0, 'fatalities_2'] = 0"
   ]
  },
  {
   "cell_type": "code",
   "execution_count": 30,
   "metadata": {},
   "outputs": [
    {
     "data": {
      "text/html": [
       "<div>\n",
       "<style scoped>\n",
       "    .dataframe tbody tr th:only-of-type {\n",
       "        vertical-align: middle;\n",
       "    }\n",
       "\n",
       "    .dataframe tbody tr th {\n",
       "        vertical-align: top;\n",
       "    }\n",
       "\n",
       "    .dataframe thead th {\n",
       "        text-align: right;\n",
       "    }\n",
       "</style>\n",
       "<table border=\"1\" class=\"dataframe\">\n",
       "  <thead>\n",
       "    <tr style=\"text-align: right;\">\n",
       "      <th></th>\n",
       "      <th>Location</th>\n",
       "      <th>Date</th>\n",
       "      <th>predictions_2</th>\n",
       "      <th>fatalities_2</th>\n",
       "    </tr>\n",
       "  </thead>\n",
       "  <tbody>\n",
       "    <tr>\n",
       "      <th>0</th>\n",
       "      <td>0</td>\n",
       "      <td>64</td>\n",
       "      <td>12646.171875</td>\n",
       "      <td>50.956596</td>\n",
       "    </tr>\n",
       "    <tr>\n",
       "      <th>1</th>\n",
       "      <td>0</td>\n",
       "      <td>65</td>\n",
       "      <td>12782.447266</td>\n",
       "      <td>51.618320</td>\n",
       "    </tr>\n",
       "    <tr>\n",
       "      <th>2</th>\n",
       "      <td>0</td>\n",
       "      <td>66</td>\n",
       "      <td>13441.225586</td>\n",
       "      <td>55.387920</td>\n",
       "    </tr>\n",
       "    <tr>\n",
       "      <th>3</th>\n",
       "      <td>0</td>\n",
       "      <td>67</td>\n",
       "      <td>13801.970703</td>\n",
       "      <td>59.940651</td>\n",
       "    </tr>\n",
       "    <tr>\n",
       "      <th>4</th>\n",
       "      <td>0</td>\n",
       "      <td>68</td>\n",
       "      <td>14018.029297</td>\n",
       "      <td>62.067802</td>\n",
       "    </tr>\n",
       "    <tr>\n",
       "      <th>...</th>\n",
       "      <td>...</td>\n",
       "      <td>...</td>\n",
       "      <td>...</td>\n",
       "      <td>...</td>\n",
       "    </tr>\n",
       "    <tr>\n",
       "      <th>10093</th>\n",
       "      <td>175</td>\n",
       "      <td>92</td>\n",
       "      <td>108.700890</td>\n",
       "      <td>4.104633</td>\n",
       "    </tr>\n",
       "    <tr>\n",
       "      <th>10094</th>\n",
       "      <td>175</td>\n",
       "      <td>93</td>\n",
       "      <td>112.437355</td>\n",
       "      <td>5.006291</td>\n",
       "    </tr>\n",
       "    <tr>\n",
       "      <th>10095</th>\n",
       "      <td>175</td>\n",
       "      <td>94</td>\n",
       "      <td>124.522705</td>\n",
       "      <td>5.956375</td>\n",
       "    </tr>\n",
       "    <tr>\n",
       "      <th>10096</th>\n",
       "      <td>175</td>\n",
       "      <td>95</td>\n",
       "      <td>121.411102</td>\n",
       "      <td>7.072469</td>\n",
       "    </tr>\n",
       "    <tr>\n",
       "      <th>10097</th>\n",
       "      <td>175</td>\n",
       "      <td>96</td>\n",
       "      <td>120.801765</td>\n",
       "      <td>8.288149</td>\n",
       "    </tr>\n",
       "  </tbody>\n",
       "</table>\n",
       "<p>10098 rows × 4 columns</p>\n",
       "</div>"
      ],
      "text/plain": [
       "       Location  Date  predictions_2  fatalities_2\n",
       "0             0    64   12646.171875     50.956596\n",
       "1             0    65   12782.447266     51.618320\n",
       "2             0    66   13441.225586     55.387920\n",
       "3             0    67   13801.970703     59.940651\n",
       "4             0    68   14018.029297     62.067802\n",
       "...         ...   ...            ...           ...\n",
       "10093       175    92     108.700890      4.104633\n",
       "10094       175    93     112.437355      5.006291\n",
       "10095       175    94     124.522705      5.956375\n",
       "10096       175    95     121.411102      7.072469\n",
       "10097       175    96     120.801765      8.288149\n",
       "\n",
       "[10098 rows x 4 columns]"
      ]
     },
     "execution_count": 30,
     "metadata": {},
     "output_type": "execute_result"
    }
   ],
   "source": [
    "df_2"
   ]
  },
  {
   "cell_type": "code",
   "execution_count": 31,
   "metadata": {
    "scrolled": true
   },
   "outputs": [],
   "source": [
    "t = test_df.merge(\n",
    "    df_2, on=['Location', 'Date'], how='left'\n",
    "    ).merge(df_1, on=['Location', 'Date'], how='left')"
   ]
  },
  {
   "cell_type": "code",
   "execution_count": 32,
   "metadata": {},
   "outputs": [],
   "source": [
    "t['ConfirmedCases'] = t.predictions_1\n",
    "t['Fatalities'] = t.fatalities_1"
   ]
  },
  {
   "cell_type": "code",
   "execution_count": 33,
   "metadata": {},
   "outputs": [],
   "source": [
    "t.loc[t.ConfirmedCases.isnull(), 'ConfirmedCases'] = t[t.ConfirmedCases.isnull()].predictions_2\n",
    "t.loc[t.Fatalities.isnull(), 'Fatalities'] = t[t.Fatalities.isnull()].fatalities_2"
   ]
  },
  {
   "cell_type": "code",
   "execution_count": 34,
   "metadata": {},
   "outputs": [
    {
     "data": {
      "text/plain": [
       "912"
      ]
     },
     "execution_count": 34,
     "metadata": {},
     "output_type": "execute_result"
    }
   ],
   "source": [
    "4038 - 3126"
   ]
  },
  {
   "cell_type": "code",
   "execution_count": 35,
   "metadata": {},
   "outputs": [],
   "source": [
    "t.fillna(0, inplace=True)"
   ]
  },
  {
   "cell_type": "code",
   "execution_count": 36,
   "metadata": {},
   "outputs": [
    {
     "data": {
      "text/html": [
       "<div>\n",
       "<style scoped>\n",
       "    .dataframe tbody tr th:only-of-type {\n",
       "        vertical-align: middle;\n",
       "    }\n",
       "\n",
       "    .dataframe tbody tr th {\n",
       "        vertical-align: top;\n",
       "    }\n",
       "\n",
       "    .dataframe thead th {\n",
       "        text-align: right;\n",
       "    }\n",
       "</style>\n",
       "<table border=\"1\" class=\"dataframe\">\n",
       "  <thead>\n",
       "    <tr style=\"text-align: right;\">\n",
       "      <th></th>\n",
       "      <th>ForecastId</th>\n",
       "      <th>Province_State</th>\n",
       "      <th>Country_Region</th>\n",
       "      <th>Date</th>\n",
       "      <th>Location</th>\n",
       "      <th>predictions_2</th>\n",
       "      <th>fatalities_2</th>\n",
       "      <th>predictions_1</th>\n",
       "      <th>fatalities_1</th>\n",
       "      <th>ConfirmedCases</th>\n",
       "      <th>Fatalities</th>\n",
       "    </tr>\n",
       "  </thead>\n",
       "  <tbody>\n",
       "    <tr>\n",
       "      <th>0</th>\n",
       "      <td>1</td>\n",
       "      <td>0</td>\n",
       "      <td>Afghanistan</td>\n",
       "      <td>2020-03-26</td>\n",
       "      <td>0</td>\n",
       "      <td>12646.171875</td>\n",
       "      <td>50.956596</td>\n",
       "      <td>0.0</td>\n",
       "      <td>0.0</td>\n",
       "      <td>12646.171875</td>\n",
       "      <td>50.956596</td>\n",
       "    </tr>\n",
       "    <tr>\n",
       "      <th>1</th>\n",
       "      <td>2</td>\n",
       "      <td>0</td>\n",
       "      <td>Afghanistan</td>\n",
       "      <td>2020-03-27</td>\n",
       "      <td>0</td>\n",
       "      <td>12782.447266</td>\n",
       "      <td>51.618320</td>\n",
       "      <td>0.0</td>\n",
       "      <td>0.0</td>\n",
       "      <td>12782.447266</td>\n",
       "      <td>51.618320</td>\n",
       "    </tr>\n",
       "    <tr>\n",
       "      <th>2</th>\n",
       "      <td>3</td>\n",
       "      <td>0</td>\n",
       "      <td>Afghanistan</td>\n",
       "      <td>2020-03-28</td>\n",
       "      <td>0</td>\n",
       "      <td>13441.225586</td>\n",
       "      <td>55.387920</td>\n",
       "      <td>0.0</td>\n",
       "      <td>0.0</td>\n",
       "      <td>13441.225586</td>\n",
       "      <td>55.387920</td>\n",
       "    </tr>\n",
       "    <tr>\n",
       "      <th>3</th>\n",
       "      <td>4</td>\n",
       "      <td>0</td>\n",
       "      <td>Afghanistan</td>\n",
       "      <td>2020-03-29</td>\n",
       "      <td>0</td>\n",
       "      <td>13801.970703</td>\n",
       "      <td>59.940651</td>\n",
       "      <td>0.0</td>\n",
       "      <td>0.0</td>\n",
       "      <td>13801.970703</td>\n",
       "      <td>59.940651</td>\n",
       "    </tr>\n",
       "    <tr>\n",
       "      <th>4</th>\n",
       "      <td>5</td>\n",
       "      <td>0</td>\n",
       "      <td>Afghanistan</td>\n",
       "      <td>2020-03-30</td>\n",
       "      <td>0</td>\n",
       "      <td>14018.029297</td>\n",
       "      <td>62.067802</td>\n",
       "      <td>0.0</td>\n",
       "      <td>0.0</td>\n",
       "      <td>14018.029297</td>\n",
       "      <td>62.067802</td>\n",
       "    </tr>\n",
       "  </tbody>\n",
       "</table>\n",
       "</div>"
      ],
      "text/plain": [
       "   ForecastId Province_State Country_Region        Date  Location  \\\n",
       "0           1              0    Afghanistan  2020-03-26         0   \n",
       "1           2              0    Afghanistan  2020-03-27         0   \n",
       "2           3              0    Afghanistan  2020-03-28         0   \n",
       "3           4              0    Afghanistan  2020-03-29         0   \n",
       "4           5              0    Afghanistan  2020-03-30         0   \n",
       "\n",
       "   predictions_2  fatalities_2  predictions_1  fatalities_1  ConfirmedCases  \\\n",
       "0   12646.171875     50.956596            0.0           0.0    12646.171875   \n",
       "1   12782.447266     51.618320            0.0           0.0    12782.447266   \n",
       "2   13441.225586     55.387920            0.0           0.0    13441.225586   \n",
       "3   13801.970703     59.940651            0.0           0.0    13801.970703   \n",
       "4   14018.029297     62.067802            0.0           0.0    14018.029297   \n",
       "\n",
       "   Fatalities  \n",
       "0   50.956596  \n",
       "1   51.618320  \n",
       "2   55.387920  \n",
       "3   59.940651  \n",
       "4   62.067802  "
      ]
     },
     "execution_count": 36,
     "metadata": {},
     "output_type": "execute_result"
    }
   ],
   "source": [
    "t['Date'] = lbl.inverse_transform(t['Date'])\n",
    "t.head()"
   ]
  },
  {
   "cell_type": "code",
   "execution_count": null,
   "metadata": {},
   "outputs": [],
   "source": []
  },
  {
   "cell_type": "code",
   "execution_count": 37,
   "metadata": {
    "scrolled": true
   },
   "outputs": [
    {
     "data": {
      "text/html": [
       "<div>\n",
       "<style scoped>\n",
       "    .dataframe tbody tr th:only-of-type {\n",
       "        vertical-align: middle;\n",
       "    }\n",
       "\n",
       "    .dataframe tbody tr th {\n",
       "        vertical-align: top;\n",
       "    }\n",
       "\n",
       "    .dataframe thead th {\n",
       "        text-align: right;\n",
       "    }\n",
       "</style>\n",
       "<table border=\"1\" class=\"dataframe\">\n",
       "  <thead>\n",
       "    <tr style=\"text-align: right;\">\n",
       "      <th></th>\n",
       "      <th>ForecastId</th>\n",
       "      <th>Province_State</th>\n",
       "      <th>Country_Region</th>\n",
       "      <th>Date</th>\n",
       "      <th>Location</th>\n",
       "      <th>predictions_2</th>\n",
       "      <th>fatalities_2</th>\n",
       "      <th>predictions_1</th>\n",
       "      <th>fatalities_1</th>\n",
       "      <th>ConfirmedCases</th>\n",
       "      <th>Fatalities</th>\n",
       "    </tr>\n",
       "  </thead>\n",
       "  <tbody>\n",
       "    <tr>\n",
       "      <th>0</th>\n",
       "      <td>1</td>\n",
       "      <td>0</td>\n",
       "      <td>Afghanistan</td>\n",
       "      <td>2020-03-26</td>\n",
       "      <td>0</td>\n",
       "      <td>12646.171875</td>\n",
       "      <td>50.956596</td>\n",
       "      <td>0.000000</td>\n",
       "      <td>0.000000</td>\n",
       "      <td>12646</td>\n",
       "      <td>50</td>\n",
       "    </tr>\n",
       "    <tr>\n",
       "      <th>1</th>\n",
       "      <td>2</td>\n",
       "      <td>0</td>\n",
       "      <td>Afghanistan</td>\n",
       "      <td>2020-03-27</td>\n",
       "      <td>0</td>\n",
       "      <td>12782.447266</td>\n",
       "      <td>51.618320</td>\n",
       "      <td>0.000000</td>\n",
       "      <td>0.000000</td>\n",
       "      <td>12782</td>\n",
       "      <td>51</td>\n",
       "    </tr>\n",
       "    <tr>\n",
       "      <th>2</th>\n",
       "      <td>3</td>\n",
       "      <td>0</td>\n",
       "      <td>Afghanistan</td>\n",
       "      <td>2020-03-28</td>\n",
       "      <td>0</td>\n",
       "      <td>13441.225586</td>\n",
       "      <td>55.387920</td>\n",
       "      <td>0.000000</td>\n",
       "      <td>0.000000</td>\n",
       "      <td>13441</td>\n",
       "      <td>55</td>\n",
       "    </tr>\n",
       "    <tr>\n",
       "      <th>3</th>\n",
       "      <td>4</td>\n",
       "      <td>0</td>\n",
       "      <td>Afghanistan</td>\n",
       "      <td>2020-03-29</td>\n",
       "      <td>0</td>\n",
       "      <td>13801.970703</td>\n",
       "      <td>59.940651</td>\n",
       "      <td>0.000000</td>\n",
       "      <td>0.000000</td>\n",
       "      <td>13801</td>\n",
       "      <td>59</td>\n",
       "    </tr>\n",
       "    <tr>\n",
       "      <th>4</th>\n",
       "      <td>5</td>\n",
       "      <td>0</td>\n",
       "      <td>Afghanistan</td>\n",
       "      <td>2020-03-30</td>\n",
       "      <td>0</td>\n",
       "      <td>14018.029297</td>\n",
       "      <td>62.067802</td>\n",
       "      <td>0.000000</td>\n",
       "      <td>0.000000</td>\n",
       "      <td>14018</td>\n",
       "      <td>62</td>\n",
       "    </tr>\n",
       "    <tr>\n",
       "      <th>...</th>\n",
       "      <td>...</td>\n",
       "      <td>...</td>\n",
       "      <td>...</td>\n",
       "      <td>...</td>\n",
       "      <td>...</td>\n",
       "      <td>...</td>\n",
       "      <td>...</td>\n",
       "      <td>...</td>\n",
       "      <td>...</td>\n",
       "      <td>...</td>\n",
       "      <td>...</td>\n",
       "    </tr>\n",
       "    <tr>\n",
       "      <th>13153</th>\n",
       "      <td>13154</td>\n",
       "      <td>0</td>\n",
       "      <td>Zimbabwe</td>\n",
       "      <td>2020-05-03</td>\n",
       "      <td>175</td>\n",
       "      <td>0.000000</td>\n",
       "      <td>0.000000</td>\n",
       "      <td>120.857880</td>\n",
       "      <td>5.138209</td>\n",
       "      <td>120</td>\n",
       "      <td>5</td>\n",
       "    </tr>\n",
       "    <tr>\n",
       "      <th>13154</th>\n",
       "      <td>13155</td>\n",
       "      <td>0</td>\n",
       "      <td>Zimbabwe</td>\n",
       "      <td>2020-05-04</td>\n",
       "      <td>175</td>\n",
       "      <td>0.000000</td>\n",
       "      <td>0.000000</td>\n",
       "      <td>133.542664</td>\n",
       "      <td>6.331498</td>\n",
       "      <td>133</td>\n",
       "      <td>6</td>\n",
       "    </tr>\n",
       "    <tr>\n",
       "      <th>13155</th>\n",
       "      <td>13156</td>\n",
       "      <td>0</td>\n",
       "      <td>Zimbabwe</td>\n",
       "      <td>2020-05-05</td>\n",
       "      <td>175</td>\n",
       "      <td>0.000000</td>\n",
       "      <td>0.000000</td>\n",
       "      <td>132.602859</td>\n",
       "      <td>7.955353</td>\n",
       "      <td>132</td>\n",
       "      <td>7</td>\n",
       "    </tr>\n",
       "    <tr>\n",
       "      <th>13156</th>\n",
       "      <td>13157</td>\n",
       "      <td>0</td>\n",
       "      <td>Zimbabwe</td>\n",
       "      <td>2020-05-06</td>\n",
       "      <td>175</td>\n",
       "      <td>0.000000</td>\n",
       "      <td>0.000000</td>\n",
       "      <td>136.176620</td>\n",
       "      <td>12.364582</td>\n",
       "      <td>136</td>\n",
       "      <td>12</td>\n",
       "    </tr>\n",
       "    <tr>\n",
       "      <th>13157</th>\n",
       "      <td>13158</td>\n",
       "      <td>0</td>\n",
       "      <td>Zimbabwe</td>\n",
       "      <td>2020-05-07</td>\n",
       "      <td>175</td>\n",
       "      <td>0.000000</td>\n",
       "      <td>0.000000</td>\n",
       "      <td>140.107391</td>\n",
       "      <td>12.225475</td>\n",
       "      <td>140</td>\n",
       "      <td>12</td>\n",
       "    </tr>\n",
       "  </tbody>\n",
       "</table>\n",
       "<p>13158 rows × 11 columns</p>\n",
       "</div>"
      ],
      "text/plain": [
       "       ForecastId Province_State Country_Region        Date  Location  \\\n",
       "0               1              0    Afghanistan  2020-03-26         0   \n",
       "1               2              0    Afghanistan  2020-03-27         0   \n",
       "2               3              0    Afghanistan  2020-03-28         0   \n",
       "3               4              0    Afghanistan  2020-03-29         0   \n",
       "4               5              0    Afghanistan  2020-03-30         0   \n",
       "...           ...            ...            ...         ...       ...   \n",
       "13153       13154              0       Zimbabwe  2020-05-03       175   \n",
       "13154       13155              0       Zimbabwe  2020-05-04       175   \n",
       "13155       13156              0       Zimbabwe  2020-05-05       175   \n",
       "13156       13157              0       Zimbabwe  2020-05-06       175   \n",
       "13157       13158              0       Zimbabwe  2020-05-07       175   \n",
       "\n",
       "       predictions_2  fatalities_2  predictions_1  fatalities_1  \\\n",
       "0       12646.171875     50.956596       0.000000      0.000000   \n",
       "1       12782.447266     51.618320       0.000000      0.000000   \n",
       "2       13441.225586     55.387920       0.000000      0.000000   \n",
       "3       13801.970703     59.940651       0.000000      0.000000   \n",
       "4       14018.029297     62.067802       0.000000      0.000000   \n",
       "...              ...           ...            ...           ...   \n",
       "13153       0.000000      0.000000     120.857880      5.138209   \n",
       "13154       0.000000      0.000000     133.542664      6.331498   \n",
       "13155       0.000000      0.000000     132.602859      7.955353   \n",
       "13156       0.000000      0.000000     136.176620     12.364582   \n",
       "13157       0.000000      0.000000     140.107391     12.225475   \n",
       "\n",
       "       ConfirmedCases  Fatalities  \n",
       "0               12646          50  \n",
       "1               12782          51  \n",
       "2               13441          55  \n",
       "3               13801          59  \n",
       "4               14018          62  \n",
       "...               ...         ...  \n",
       "13153             120           5  \n",
       "13154             133           6  \n",
       "13155             132           7  \n",
       "13156             136          12  \n",
       "13157             140          12  \n",
       "\n",
       "[13158 rows x 11 columns]"
      ]
     },
     "execution_count": 37,
     "metadata": {},
     "output_type": "execute_result"
    }
   ],
   "source": [
    "t['ConfirmedCases'] = t.ConfirmedCases.astype(int)\n",
    "t['Fatalities'] = t.Fatalities.astype(int)\n",
    "t"
   ]
  },
  {
   "cell_type": "code",
   "execution_count": 38,
   "metadata": {},
   "outputs": [],
   "source": [
    "t[['ForecastId', 'ConfirmedCases', 'Fatalities']].to_csv(\"submission.csv\", index=False)"
   ]
  },
  {
   "cell_type": "code",
   "execution_count": 39,
   "metadata": {
    "scrolled": true
   },
   "outputs": [],
   "source": [
    "# dates1 = [i+1+date_1 for i in range(33)]\n",
    "# dates2 = [i+1+date_2 for i in range(33)]"
   ]
  },
  {
   "cell_type": "code",
   "execution_count": 40,
   "metadata": {},
   "outputs": [],
   "source": [
    "# dates = future_features_set_2[:,13,1]\n",
    "# locations =  future_features_set_1[:,13,-1]"
   ]
  },
  {
   "cell_type": "code",
   "execution_count": 41,
   "metadata": {},
   "outputs": [],
   "source": [
    "# forecast_cases_future_1.shape"
   ]
  },
  {
   "cell_type": "code",
   "execution_count": 42,
   "metadata": {},
   "outputs": [
    {
     "ename": "NameError",
     "evalue": "name 'forecast_cases_future' is not defined",
     "output_type": "error",
     "traceback": [
      "\u001b[0;31m---------------------------------------------------------------------------\u001b[0m",
      "\u001b[0;31mNameError\u001b[0m                                 Traceback (most recent call last)",
      "\u001b[0;32m<ipython-input-42-68c8a17bc081>\u001b[0m in \u001b[0;36m<module>\u001b[0;34m\u001b[0m\n\u001b[0;32m----> 1\u001b[0;31m \u001b[0mforecast_cases_future\u001b[0m\u001b[0;34m\u001b[0m\u001b[0m\n\u001b[0m\u001b[1;32m      2\u001b[0m \u001b[0mforecast_cases_future\u001b[0m\u001b[0;34m[\u001b[0m\u001b[0mforecast_cases_future\u001b[0m \u001b[0;34m<\u001b[0m \u001b[0;36m0\u001b[0m\u001b[0;34m]\u001b[0m \u001b[0;34m=\u001b[0m \u001b[0;36m0\u001b[0m\u001b[0;34m\u001b[0m\u001b[0m\n\u001b[1;32m      3\u001b[0m \u001b[0mforecast_fatalities_future\u001b[0m\u001b[0;34m[\u001b[0m\u001b[0mforecast_fatalities_future\u001b[0m \u001b[0;34m<\u001b[0m \u001b[0;36m0\u001b[0m\u001b[0;34m]\u001b[0m \u001b[0;34m=\u001b[0m \u001b[0;36m0\u001b[0m\u001b[0;34m\u001b[0m\u001b[0m\n",
      "\u001b[0;31mNameError\u001b[0m: name 'forecast_cases_future' is not defined"
     ]
    }
   ],
   "source": [
    "forecast_cases_future\n",
    "forecast_cases_future[forecast_cases_future < 0] = 0\n",
    "forecast_fatalities_future[forecast_fatalities_future < 0] = 0"
   ]
  },
  {
   "cell_type": "code",
   "execution_count": 43,
   "metadata": {
    "collapsed": true
   },
   "outputs": [],
   "source": [
    "# df.iloc[:,3:]"
   ]
  },
  {
   "cell_type": "code",
   "execution_count": 44,
   "metadata": {},
   "outputs": [],
   "source": [
    "# test_dates = []\n",
    "# for item in (test_features_set[:,:,1] + 7 ).tolist():\n",
    "#     test_dates+=item\n",
    "    \n",
    "# test_locations = []\n",
    "# for item in (test_features_set[:,:,-1]).tolist():\n",
    "#     test_locations+=item\n",
    "\n",
    "# len(test_locations)\n",
    "\n",
    "# test_forecast = []\n",
    "# for item in out.tolist():\n",
    "#     test_forecast+=item\n",
    "# len(test_forecast)"
   ]
  },
  {
   "cell_type": "code",
   "execution_count": 45,
   "metadata": {},
   "outputs": [],
   "source": [
    "# future_out = model.predict(future_features_set)"
   ]
  },
  {
   "cell_type": "code",
   "execution_count": 46,
   "metadata": {},
   "outputs": [],
   "source": [
    "# for item in (future_features_set[:,:,1] + 7 ).tolist():\n",
    "#     test_dates+=item\n",
    "    \n",
    "# for item in (future_features_set[:,:,-1]).tolist():\n",
    "#     test_locations+=item\n",
    "\n",
    "# for item in future_out.tolist():\n",
    "#     test_forecast+=item\n",
    "# len(test_forecast)"
   ]
  },
  {
   "cell_type": "code",
   "execution_count": 47,
   "metadata": {},
   "outputs": [],
   "source": [
    "# test_labels_list = []\n",
    "# for item in test_labels.tolist():\n",
    "#     test_labels_list+=item\n",
    "# len(test_labels_list)\n",
    "\n",
    "# test_labels_list += [pd.np.nan]*2142\n",
    "# len(test_labels_list)\n",
    "\n"
   ]
  },
  {
   "cell_type": "code",
   "execution_count": 48,
   "metadata": {},
   "outputs": [],
   "source": [
    "# # test_locations = test_features_set[:,6,-1].tolist()\n",
    "# # test_dates = test_features_set[:,6,1].tolist()\n",
    "# locs = encoders['Location'].inverse_transform([int(i) for i in test_locations]).tolist()\n",
    "# # [loc for loc in locs if '_US' in loc]\n",
    "\n",
    "# dates = test_dates#encoders['Date'].inverse_transform([int(i) for i in test_dates]).tolist()\n",
    "# # [loc for loc in locs if '_US' in loc]\n",
    "\n",
    "# Forecast = pd.DataFrame({'Forecasted_cases': test_forecast, 'location': locs, 'Date': dates, 'True_cases': test_labels_list})\n",
    "\n",
    "# US_Forecast = Forecast[Forecast.location.astype(str).str.contains('_US')]\n",
    "\n",
    "\n",
    "\n",
    "# fig = go.Figure()\n",
    "# for location in ['0.0_Spain', 'Washington_US', 'Michigan_US', 'New York_US']:#US_Forecast.location.unique().tolist():\n",
    "#     location_df = Forecast[Forecast.location == location]\n",
    "# #     country_df = lockdown_geo[lockdown_geo.Country_Region == country].groupby(['Date']).agg({'Fatalities': 'sum'}).reset_index()\n",
    "#     fig.add_trace(go.Scatter(x=location_df.Date, y=location_df.True_cases,\n",
    "#                         mode='lines+markers',\n",
    "#                         name=location+' - True Cases'))\n",
    "\n",
    "#     fig.add_trace(go.Scatter(x=location_df.Date, y=location_df.Forecasted_cases,\n",
    "#                         mode='lines+markers',\n",
    "#                         name=location+' - Forecasted Cases'))\n",
    "\n",
    "\n",
    "#     # for business_id in ['e0CTLPxTnFEQSqQ1FJUqog', 'dWFUKB_HPBIE87AFBHEb_w', 'CMN3KmB5SEfONN00s2nEeQ', '7MNBIoGznDHhC1AfxGWOFw']:\n",
    "#     #     plot_df = bad_business_df[bad_business_df.business_id == business_id]\n",
    "#     #     plot_df = plot_df[['stars']].resample(\"M\").mean().reset_index()\n",
    "#     #     plot_df = plot_df[plot_df.date_time > \"2014-01-01\"]\n",
    "#     #     fig.add_trace(go.Scatter(x=plot_df.date_time, y=plot_df.stars,\n",
    "#     #                         mode='lines+markers',\n",
    "#     #                         name=bad_names_dict[business_id]))\n",
    "\n",
    "#     fig.update_layout(\n",
    "#         title={\n",
    "#             'text': \"Confirmed cases over time\"})\n",
    "\n",
    "# fig.show()"
   ]
  }
 ],
 "metadata": {
  "kernelspec": {
   "display_name": "Python 3",
   "language": "python",
   "name": "python3"
  },
  "language_info": {
   "codemirror_mode": {
    "name": "ipython",
    "version": 3
   },
   "file_extension": ".py",
   "mimetype": "text/x-python",
   "name": "python",
   "nbconvert_exporter": "python",
   "pygments_lexer": "ipython3",
   "version": "3.6.6"
  }
 },
 "nbformat": 4,
 "nbformat_minor": 4
}
